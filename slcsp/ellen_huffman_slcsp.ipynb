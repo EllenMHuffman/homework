{
 "cells": [
  {
   "cell_type": "markdown",
   "metadata": {},
   "source": [
    "# Calculate second lowest cost silver plan (SLCSP)\n",
    "--- \n",
    "\n",
    "## Problem\n",
    "---\n",
    "You have been asked to determine the second lowest cost silver plan (SLCSP) for a group of ZIP Codes.\n",
    "\n",
    "\n",
    "## Task\n",
    "---\n",
    "You have been given a CSV file, `slcsp.csv`, which contains the ZIP Codes in the first column. Fill in the second column with the rate (see below) of the corresponding SLCSP. Your answer is the modified CSV file, plus any source code used.\n",
    "\n",
    "Write your code in your best programming language.\n",
    "\n",
    "The order of the rows in your answer file must stay the same as how they appeared in the original `slcsp.csv`.\n",
    "\n",
    "It may not be possible to determine a SLCSP for every ZIP Code given. Check for cases where a definitive answer cannot be found and leave those cells blank in the output CSV (no quotes or zeroes or other text).\n",
    "\n",
    "## Additional information\n",
    "---\n",
    "The SLCSP is the so-called \"benchmark\" health plan in a particular area. It is used to compute the tax credit that qualifying individuals and families receive on the marketplace. It is the second lowest rate for a silver plan in the rate area.\n",
    "\n",
    "For example, if a rate area had silver plans with rates of `[197.3, 197.3, 201.1, 305.4, 306.7, 411.24]`, the SLCSP for that rate area would be `201.1`, since it is the second lowest rate in that rate area.\n",
    "\n",
    "A plan has a \"metal level\", which can be either Bronze, Silver, Gold, Platinum, or Catastrophic. The metal level is indicative of the level of coverage the plan provides.\n",
    "\n",
    "A plan has a \"rate\", which is the amount that a consumer pays as a monthly premium, in dollars.\n",
    "\n",
    "A plan has a \"rate area\", which is a geographic region in a state that determines the plan's rate. A rate area is a tuple of a state and a number, for example, NY 1, IL 14.\n",
    "\n",
    "There are two additional CSV files in this directory besides `slcsp.csv`:\n",
    "\n",
    "* `plans.csv` -- all the health plans in the U.S. on the marketplace\n",
    "* `zips.csv` -- a mapping of ZIP Code to county/counties & rate area(s)\n",
    "A ZIP Code can potentially be in more than one county. If the county can not be determined definitively by the ZIP Code, it may still be possible to determine the rate area for that ZIP Code.\n",
    "\n",
    "A ZIP Code can also be in more than one rate area. In that case, the answer is ambiguous and should be left blank.\n",
    "\n",
    "We will want to compile your code from source and run it, so please include the complete instructions for doing so in a COMMENTS file."
   ]
  },
  {
   "cell_type": "code",
   "execution_count": 311,
   "metadata": {},
   "outputs": [],
   "source": [
    "import pandas as pd"
   ]
  },
  {
   "cell_type": "markdown",
   "metadata": {},
   "source": [
    "## Examine data characteristics"
   ]
  },
  {
   "cell_type": "code",
   "execution_count": 312,
   "metadata": {},
   "outputs": [
    {
     "name": "stdout",
     "output_type": "stream",
     "text": [
      "\n",
      "PLANS\n",
      "\n",
      "Header: \n",
      "          plan_id state metal_level    rate  rate_area\n",
      "0  74449NR9870320    GA      Silver  298.62          7\n",
      "1  26325VH2723968    FL      Silver  421.43         60\n",
      "2  09846WB8636633    IL        Gold  361.69          5\n",
      "3  78590JQ3204809    SC        Gold  379.97          2\n",
      "4  21163YD2193896    AR        Gold  359.75          2\n",
      "\n",
      "Shape: (22239, 5)\n",
      "\n",
      "Dups: 0\n",
      "\n",
      "\n",
      "\n",
      "SLCSP\n",
      "\n",
      "Header: \n",
      "   zipcode    rate\n",
      "0    64148  139.91\n",
      "1    67118  122.42\n",
      "2    40813  158.12\n",
      "3    18229  139.91\n",
      "4    51012  139.91\n",
      "\n",
      "Shape: (51, 2)\n",
      "\n",
      "Dups: 0\n",
      "\n",
      "\n",
      "\n",
      "ZIPS\n",
      "\n",
      "Header: \n",
      "   zipcode state  county_code     name  rate_area\n",
      "0    36749    AL         1001  Autauga         11\n",
      "1    36703    AL         1001  Autauga         11\n",
      "2    36003    AL         1001  Autauga         11\n",
      "3    36008    AL         1001  Autauga         11\n",
      "4    36006    AL         1001  Autauga         11\n",
      "\n",
      "Shape: (51541, 5)\n",
      "\n",
      "Dups: 0\n",
      "\n",
      "\n"
     ]
    }
   ],
   "source": [
    "def print_first_line(filename):\n",
    "    name = filename.split('.')[1]\n",
    "    print('\\n{}'.format(name[1:].upper()))\n",
    "    \n",
    "    df = pd.read_csv(filename)\n",
    "    print('\\nHeader: \\n{}'.format(df.head()))\n",
    "    print('\\nShape: {}'.format(df.shape))\n",
    "    print('\\nDups: {}'.format(sum(df.duplicated())))\n",
    "    print('\\n')\n",
    "    \n",
    "data_files = ['./plans.csv',\n",
    "              './slcsp.csv',\n",
    "              './zips.csv']\n",
    "\n",
    "for file in data_files:\n",
    "    print_first_line(file)"
   ]
  },
  {
   "cell_type": "markdown",
   "metadata": {},
   "source": [
    "## Find Second Lowest Cost Silver Plan by Rate Area"
   ]
  },
  {
   "cell_type": "code",
   "execution_count": 313,
   "metadata": {},
   "outputs": [
    {
     "data": {
      "text/html": [
       "<div>\n",
       "<style scoped>\n",
       "    .dataframe tbody tr th:only-of-type {\n",
       "        vertical-align: middle;\n",
       "    }\n",
       "\n",
       "    .dataframe tbody tr th {\n",
       "        vertical-align: top;\n",
       "    }\n",
       "\n",
       "    .dataframe thead th {\n",
       "        text-align: right;\n",
       "    }\n",
       "</style>\n",
       "<table border=\"1\" class=\"dataframe\">\n",
       "  <thead>\n",
       "    <tr style=\"text-align: right;\">\n",
       "      <th></th>\n",
       "      <th>plan_id</th>\n",
       "      <th>state</th>\n",
       "      <th>metal_level</th>\n",
       "      <th>rate</th>\n",
       "      <th>rate_area</th>\n",
       "    </tr>\n",
       "  </thead>\n",
       "  <tbody>\n",
       "    <tr>\n",
       "      <th>0</th>\n",
       "      <td>74449NR9870320</td>\n",
       "      <td>GA</td>\n",
       "      <td>Silver</td>\n",
       "      <td>298.62</td>\n",
       "      <td>7</td>\n",
       "    </tr>\n",
       "    <tr>\n",
       "      <th>1</th>\n",
       "      <td>26325VH2723968</td>\n",
       "      <td>FL</td>\n",
       "      <td>Silver</td>\n",
       "      <td>421.43</td>\n",
       "      <td>60</td>\n",
       "    </tr>\n",
       "    <tr>\n",
       "      <th>2</th>\n",
       "      <td>09846WB8636633</td>\n",
       "      <td>IL</td>\n",
       "      <td>Gold</td>\n",
       "      <td>361.69</td>\n",
       "      <td>5</td>\n",
       "    </tr>\n",
       "    <tr>\n",
       "      <th>3</th>\n",
       "      <td>78590JQ3204809</td>\n",
       "      <td>SC</td>\n",
       "      <td>Gold</td>\n",
       "      <td>379.97</td>\n",
       "      <td>2</td>\n",
       "    </tr>\n",
       "    <tr>\n",
       "      <th>4</th>\n",
       "      <td>21163YD2193896</td>\n",
       "      <td>AR</td>\n",
       "      <td>Gold</td>\n",
       "      <td>359.75</td>\n",
       "      <td>2</td>\n",
       "    </tr>\n",
       "  </tbody>\n",
       "</table>\n",
       "</div>"
      ],
      "text/plain": [
       "          plan_id state metal_level    rate  rate_area\n",
       "0  74449NR9870320    GA      Silver  298.62          7\n",
       "1  26325VH2723968    FL      Silver  421.43         60\n",
       "2  09846WB8636633    IL        Gold  361.69          5\n",
       "3  78590JQ3204809    SC        Gold  379.97          2\n",
       "4  21163YD2193896    AR        Gold  359.75          2"
      ]
     },
     "execution_count": 313,
     "metadata": {},
     "output_type": "execute_result"
    }
   ],
   "source": [
    "df_plan = pd.read_csv('./plans.csv')\n",
    "df_plan.head()"
   ]
  },
  {
   "cell_type": "code",
   "execution_count": 314,
   "metadata": {},
   "outputs": [
    {
     "data": {
      "text/html": [
       "<div>\n",
       "<style scoped>\n",
       "    .dataframe tbody tr th:only-of-type {\n",
       "        vertical-align: middle;\n",
       "    }\n",
       "\n",
       "    .dataframe tbody tr th {\n",
       "        vertical-align: top;\n",
       "    }\n",
       "\n",
       "    .dataframe thead th {\n",
       "        text-align: right;\n",
       "    }\n",
       "</style>\n",
       "<table border=\"1\" class=\"dataframe\">\n",
       "  <thead>\n",
       "    <tr style=\"text-align: right;\">\n",
       "      <th></th>\n",
       "      <th>rate</th>\n",
       "      <th>rate_area</th>\n",
       "    </tr>\n",
       "  </thead>\n",
       "  <tbody>\n",
       "    <tr>\n",
       "      <th>17361</th>\n",
       "      <td>163.08</td>\n",
       "      <td>1</td>\n",
       "    </tr>\n",
       "    <tr>\n",
       "      <th>779</th>\n",
       "      <td>166.13</td>\n",
       "      <td>1</td>\n",
       "    </tr>\n",
       "    <tr>\n",
       "      <th>3639</th>\n",
       "      <td>166.13</td>\n",
       "      <td>1</td>\n",
       "    </tr>\n",
       "    <tr>\n",
       "      <th>6266</th>\n",
       "      <td>167.07</td>\n",
       "      <td>1</td>\n",
       "    </tr>\n",
       "    <tr>\n",
       "      <th>16140</th>\n",
       "      <td>167.07</td>\n",
       "      <td>1</td>\n",
       "    </tr>\n",
       "    <tr>\n",
       "      <th>12669</th>\n",
       "      <td>167.18</td>\n",
       "      <td>1</td>\n",
       "    </tr>\n",
       "    <tr>\n",
       "      <th>9592</th>\n",
       "      <td>168.24</td>\n",
       "      <td>1</td>\n",
       "    </tr>\n",
       "    <tr>\n",
       "      <th>14907</th>\n",
       "      <td>168.24</td>\n",
       "      <td>1</td>\n",
       "    </tr>\n",
       "    <tr>\n",
       "      <th>12754</th>\n",
       "      <td>168.48</td>\n",
       "      <td>1</td>\n",
       "    </tr>\n",
       "    <tr>\n",
       "      <th>18230</th>\n",
       "      <td>168.48</td>\n",
       "      <td>1</td>\n",
       "    </tr>\n",
       "  </tbody>\n",
       "</table>\n",
       "</div>"
      ],
      "text/plain": [
       "         rate  rate_area\n",
       "17361  163.08          1\n",
       "779    166.13          1\n",
       "3639   166.13          1\n",
       "6266   167.07          1\n",
       "16140  167.07          1\n",
       "12669  167.18          1\n",
       "9592   168.24          1\n",
       "14907  168.24          1\n",
       "12754  168.48          1\n",
       "18230  168.48          1"
      ]
     },
     "execution_count": 314,
     "metadata": {},
     "output_type": "execute_result"
    }
   ],
   "source": [
    "df_plan.query('metal_level == \"Silver\"').sort_values(['rate_area', 'rate'])[['rate', 'rate_area']].head(10)"
   ]
  },
  {
   "cell_type": "code",
   "execution_count": 315,
   "metadata": {},
   "outputs": [
    {
     "name": "stdout",
     "output_type": "stream",
     "text": [
      "[ 7 60  5  2 11 18  1 23  9  3 17  4 14 15  8 13  6 25 19 51 47 12 53 22 10\n",
      " 40 43 26 42 37 50 32 29 48 35 34 33 44 16 20 52 21 36 27 30 46 24 64 58 65\n",
      " 31 38 57 49 39 67 28 62 45 41 61 56 63 55 54 59 66]\n"
     ]
    }
   ],
   "source": [
    "rate_areas = df_plan['rate_area'].unique()\n",
    "print(rate_areas)"
   ]
  },
  {
   "cell_type": "code",
   "execution_count": 316,
   "metadata": {},
   "outputs": [
    {
     "data": {
      "text/html": [
       "<div>\n",
       "<style scoped>\n",
       "    .dataframe tbody tr th:only-of-type {\n",
       "        vertical-align: middle;\n",
       "    }\n",
       "\n",
       "    .dataframe tbody tr th {\n",
       "        vertical-align: top;\n",
       "    }\n",
       "\n",
       "    .dataframe thead th {\n",
       "        text-align: right;\n",
       "    }\n",
       "</style>\n",
       "<table border=\"1\" class=\"dataframe\">\n",
       "  <thead>\n",
       "    <tr style=\"text-align: right;\">\n",
       "      <th></th>\n",
       "      <th>rate_area</th>\n",
       "      <th>rate</th>\n",
       "    </tr>\n",
       "  </thead>\n",
       "  <tbody>\n",
       "  </tbody>\n",
       "</table>\n",
       "</div>"
      ],
      "text/plain": [
       "Empty DataFrame\n",
       "Columns: [rate_area, rate]\n",
       "Index: []"
      ]
     },
     "execution_count": 316,
     "metadata": {},
     "output_type": "execute_result"
    }
   ],
   "source": [
    "columns = ['rate_area', 'rate']\n",
    "df_area_rates = pd.DataFrame(columns=columns)\n",
    "df_area_rates"
   ]
  },
  {
   "cell_type": "code",
   "execution_count": 317,
   "metadata": {},
   "outputs": [],
   "source": [
    "i = 0\n",
    "for area in rate_areas:\n",
    "    rates_by_area = df_plan.query('rate_area == @area').sort_values('rate')['rate'].unique()\n",
    "    second_lowest = rates_by_area[1]\n",
    "    data = ({'rate_area': area, 'rate': second_lowest})\n",
    "    df_area_rates.loc[i] = pd.Series(data)\n",
    "    i += 1"
   ]
  },
  {
   "cell_type": "code",
   "execution_count": 318,
   "metadata": {},
   "outputs": [
    {
     "data": {
      "text/html": [
       "<div>\n",
       "<style scoped>\n",
       "    .dataframe tbody tr th:only-of-type {\n",
       "        vertical-align: middle;\n",
       "    }\n",
       "\n",
       "    .dataframe tbody tr th {\n",
       "        vertical-align: top;\n",
       "    }\n",
       "\n",
       "    .dataframe thead th {\n",
       "        text-align: right;\n",
       "    }\n",
       "</style>\n",
       "<table border=\"1\" class=\"dataframe\">\n",
       "  <thead>\n",
       "    <tr style=\"text-align: right;\">\n",
       "      <th></th>\n",
       "      <th>rate_area</th>\n",
       "      <th>rate</th>\n",
       "    </tr>\n",
       "  </thead>\n",
       "  <tbody>\n",
       "    <tr>\n",
       "      <th>6</th>\n",
       "      <td>1.0</td>\n",
       "      <td>129.28</td>\n",
       "    </tr>\n",
       "    <tr>\n",
       "      <th>3</th>\n",
       "      <td>2.0</td>\n",
       "      <td>141.92</td>\n",
       "    </tr>\n",
       "    <tr>\n",
       "      <th>9</th>\n",
       "      <td>3.0</td>\n",
       "      <td>139.91</td>\n",
       "    </tr>\n",
       "    <tr>\n",
       "      <th>11</th>\n",
       "      <td>4.0</td>\n",
       "      <td>123.38</td>\n",
       "    </tr>\n",
       "    <tr>\n",
       "      <th>2</th>\n",
       "      <td>5.0</td>\n",
       "      <td>144.50</td>\n",
       "    </tr>\n",
       "    <tr>\n",
       "      <th>16</th>\n",
       "      <td>6.0</td>\n",
       "      <td>122.42</td>\n",
       "    </tr>\n",
       "    <tr>\n",
       "      <th>0</th>\n",
       "      <td>7.0</td>\n",
       "      <td>135.64</td>\n",
       "    </tr>\n",
       "    <tr>\n",
       "      <th>14</th>\n",
       "      <td>8.0</td>\n",
       "      <td>158.12</td>\n",
       "    </tr>\n",
       "    <tr>\n",
       "      <th>8</th>\n",
       "      <td>9.0</td>\n",
       "      <td>142.29</td>\n",
       "    </tr>\n",
       "    <tr>\n",
       "      <th>24</th>\n",
       "      <td>10.0</td>\n",
       "      <td>158.12</td>\n",
       "    </tr>\n",
       "  </tbody>\n",
       "</table>\n",
       "</div>"
      ],
      "text/plain": [
       "    rate_area    rate\n",
       "6         1.0  129.28\n",
       "3         2.0  141.92\n",
       "9         3.0  139.91\n",
       "11        4.0  123.38\n",
       "2         5.0  144.50\n",
       "16        6.0  122.42\n",
       "0         7.0  135.64\n",
       "14        8.0  158.12\n",
       "8         9.0  142.29\n",
       "24       10.0  158.12"
      ]
     },
     "execution_count": 318,
     "metadata": {},
     "output_type": "execute_result"
    }
   ],
   "source": [
    "df_area_rates.sort_values('rate_area').head(10)"
   ]
  },
  {
   "cell_type": "markdown",
   "metadata": {},
   "source": [
    "## Assign Rates to Zipcodes"
   ]
  },
  {
   "cell_type": "code",
   "execution_count": 319,
   "metadata": {},
   "outputs": [
    {
     "data": {
      "text/html": [
       "<div>\n",
       "<style scoped>\n",
       "    .dataframe tbody tr th:only-of-type {\n",
       "        vertical-align: middle;\n",
       "    }\n",
       "\n",
       "    .dataframe tbody tr th {\n",
       "        vertical-align: top;\n",
       "    }\n",
       "\n",
       "    .dataframe thead th {\n",
       "        text-align: right;\n",
       "    }\n",
       "</style>\n",
       "<table border=\"1\" class=\"dataframe\">\n",
       "  <thead>\n",
       "    <tr style=\"text-align: right;\">\n",
       "      <th></th>\n",
       "      <th>zipcode</th>\n",
       "      <th>rate</th>\n",
       "    </tr>\n",
       "  </thead>\n",
       "  <tbody>\n",
       "    <tr>\n",
       "      <th>0</th>\n",
       "      <td>64148</td>\n",
       "      <td>139.91</td>\n",
       "    </tr>\n",
       "    <tr>\n",
       "      <th>1</th>\n",
       "      <td>67118</td>\n",
       "      <td>122.42</td>\n",
       "    </tr>\n",
       "    <tr>\n",
       "      <th>2</th>\n",
       "      <td>40813</td>\n",
       "      <td>158.12</td>\n",
       "    </tr>\n",
       "    <tr>\n",
       "      <th>3</th>\n",
       "      <td>18229</td>\n",
       "      <td>139.91</td>\n",
       "    </tr>\n",
       "    <tr>\n",
       "      <th>4</th>\n",
       "      <td>51012</td>\n",
       "      <td>139.91</td>\n",
       "    </tr>\n",
       "  </tbody>\n",
       "</table>\n",
       "</div>"
      ],
      "text/plain": [
       "  zipcode    rate\n",
       "0   64148  139.91\n",
       "1   67118  122.42\n",
       "2   40813  158.12\n",
       "3   18229  139.91\n",
       "4   51012  139.91"
      ]
     },
     "execution_count": 319,
     "metadata": {},
     "output_type": "execute_result"
    }
   ],
   "source": [
    "df_slcsp = pd.read_csv('./slcsp.csv', dtype={'zipcode': str})\n",
    "df_slcsp.head()"
   ]
  },
  {
   "cell_type": "code",
   "execution_count": 320,
   "metadata": {},
   "outputs": [],
   "source": [
    "df_zip = pd.read_csv('./zips.csv', dtype={'zipcode': str})\n",
    "df_zip.drop_duplicates(['zipcode', 'rate_area'], inplace=True)"
   ]
  },
  {
   "cell_type": "code",
   "execution_count": 321,
   "metadata": {},
   "outputs": [],
   "source": [
    "df_zip_areas = df_slcsp.merge(df_zip[['zipcode', 'rate_area']], on='zipcode', how='inner')"
   ]
  },
  {
   "cell_type": "code",
   "execution_count": 322,
   "metadata": {},
   "outputs": [],
   "source": [
    "df_zip_areas['dups'] = new_df.duplicated('zipcode')\n",
    "df_zip_areas.drop(['rate'], axis=1, inplace=True)"
   ]
  },
  {
   "cell_type": "code",
   "execution_count": 323,
   "metadata": {},
   "outputs": [],
   "source": [
    "df_zip_rates = df_zip_areas.merge(df_area_rates, on='rate_area', how='left')"
   ]
  },
  {
   "cell_type": "markdown",
   "metadata": {},
   "source": [
    "## Find Ambiguous Zipcodes"
   ]
  },
  {
   "cell_type": "code",
   "execution_count": 324,
   "metadata": {},
   "outputs": [],
   "source": [
    "ambig_zips = df_zip_rates.query('dups == True')['zipcode']"
   ]
  },
  {
   "cell_type": "code",
   "execution_count": 325,
   "metadata": {},
   "outputs": [
    {
     "data": {
      "text/plain": [
       "7     54923\n",
       "17    46706\n",
       "19    14846\n",
       "21    48872\n",
       "22    48872\n",
       "24    43343\n",
       "31    48435\n",
       "38    56097\n",
       "46    63359\n",
       "47    63359\n",
       "52    48418\n",
       "61    47452\n",
       "62    47452\n",
       "Name: zipcode, dtype: object"
      ]
     },
     "execution_count": 325,
     "metadata": {},
     "output_type": "execute_result"
    }
   ],
   "source": [
    "ambig_zips"
   ]
  },
  {
   "cell_type": "code",
   "execution_count": 326,
   "metadata": {},
   "outputs": [],
   "source": [
    "df_zip_rates.drop_duplicates(['zipcode'], inplace=True)"
   ]
  },
  {
   "cell_type": "code",
   "execution_count": 327,
   "metadata": {},
   "outputs": [],
   "source": [
    "for ambig_zip in ambig_zips:\n",
    "    index = df_zip_rates.index[df_zip_rates['zipcode'] == ambig_zip]\n",
    "    df_zip_rates.loc[index, 'rate'] = None\n"
   ]
  },
  {
   "cell_type": "markdown",
   "metadata": {},
   "source": [
    "## Clean and Output Data"
   ]
  },
  {
   "cell_type": "code",
   "execution_count": 328,
   "metadata": {},
   "outputs": [],
   "source": [
    "df_zip_rates.drop(['rate_area', 'dups'], axis=1, inplace=True)"
   ]
  },
  {
   "cell_type": "code",
   "execution_count": 329,
   "metadata": {},
   "outputs": [],
   "source": [
    "df_zip_rates.to_csv('./slcsp.csv', header=['zipcode', 'rate'], index=False)"
   ]
  },
  {
   "cell_type": "code",
   "execution_count": null,
   "metadata": {},
   "outputs": [],
   "source": []
  }
 ],
 "metadata": {
  "kernelspec": {
   "display_name": "Python [default]",
   "language": "python",
   "name": "python3"
  },
  "language_info": {
   "codemirror_mode": {
    "name": "ipython",
    "version": 3
   },
   "file_extension": ".py",
   "mimetype": "text/x-python",
   "name": "python",
   "nbconvert_exporter": "python",
   "pygments_lexer": "ipython3",
   "version": "3.6.3"
  }
 },
 "nbformat": 4,
 "nbformat_minor": 2
}
